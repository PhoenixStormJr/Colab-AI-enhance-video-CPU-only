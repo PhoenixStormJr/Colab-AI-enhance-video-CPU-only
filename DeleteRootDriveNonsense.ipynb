{
  "nbformat": 4,
  "nbformat_minor": 0,
  "metadata": {
    "colab": {
      "provenance": [],
      "include_colab_link": true
    },
    "kernelspec": {
      "name": "python3",
      "display_name": "Python 3"
    },
    "language_info": {
      "name": "python"
    }
  },
  "cells": [
    {
      "cell_type": "markdown",
      "metadata": {
        "id": "view-in-github",
        "colab_type": "text"
      },
      "source": [
        "<a href=\"https://colab.research.google.com/github/PhoenixStormJr/Colab-AI-enhance-video-CPU-only/blob/main/DeleteRootDriveNonsense.ipynb\" target=\"_parent\"><img src=\"https://colab.research.google.com/assets/colab-badge.svg\" alt=\"Open In Colab\"/></a>"
      ]
    },
    {
      "cell_type": "code",
      "execution_count": null,
      "metadata": {
        "id": "Fm2npqESZB57",
        "colab": {
          "base_uri": "https://localhost:8080/"
        },
        "outputId": "63b39660-f0cf-4d7e-f23e-0705e68aecfb"
      },
      "outputs": [
        {
          "output_type": "stream",
          "name": "stdout",
          "text": [
            "Drive already mounted at /content/drive; to attempt to forcibly remount, call drive.mount(\"/content/drive\", force_remount=True).\n"
          ]
        }
      ],
      "source": [
        "import os\n",
        "import shutil\n",
        "def listdir2(directoryToList):\n",
        "  returnList = []\n",
        "  if(os.path.exists(directoryToList)):\n",
        "    listOfDir = os.listdir(directoryToList)\n",
        "    listOfDir.sort()\n",
        "    returnList = []\n",
        "    for thing in listOfDir:\n",
        "      if(os.path.isfile(f\"{directoryToList}/{thing}\")):\n",
        "        returnList.append(thing)\n",
        "      if(os.path.isdir(f\"{directoryToList}/{thing}\")):\n",
        "        if(not thing == \".ipynb_checkpoints\"):\n",
        "          returnList.append(thing)\n",
        "        else:\n",
        "          !rm -r {directoryToList}/{thing}\n",
        "  return returnList\n",
        "def RemoveNumbersFromString(string):\n",
        "  returnString = \"\"\n",
        "  for char in string:\n",
        "    if(not char.isnumeric()):\n",
        "      returnString = returnString + char\n",
        "  return returnString\n",
        "\n",
        "\n",
        "FileExtension = 'png' # @param [\"png\", \"jpg\", \"jpeg\"]\n",
        "\n",
        "\n",
        "\n",
        "\n",
        "from google.colab import drive\n",
        "drive.mount('/content/drive')\n",
        "\n",
        "\n",
        "\n",
        "DriveRootList = listdir2(\"/content/drive/MyDrive\")\n",
        "DeleteList = [f\".{FileExtension}\",f\" ().{FileExtension}\",f\"_upscaled.{FileExtension}\",f\"_upscaled ().{FileExtension}\",\"SessionNamesToDo\",\"SessionNamesToDo ()\",\"SessionTaken ().txt\",\"SessionTaken.txt\",\"ToProcess\",\"ToProcess ()\",\"MergeSessions\",\"MergeSessions ()\"]\n",
        "for item in DriveRootList:\n",
        "  if(RemoveNumbersFromString(item) in DeleteList):\n",
        "    print(f\"Deleting: {item}\")\n",
        "    if(os.path.isdir(f\"/content/drive/MyDrive/{item}\")):\n",
        "      shutil.rmtree(f\"/content/drive/MyDrive/{item}\")\n",
        "    if(os.path.isfile(f\"/content/drive/MyDrive/{item}\")):\n",
        "      os.remove(f\"/content/drive/MyDrive/{item}\")\n",
        "  else:\n",
        "    print(f\"Keeping: {item}\")\n",
        "\n",
        "\n"
      ]
    }
  ]
}